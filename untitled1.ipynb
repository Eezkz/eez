{
  "nbformat": 4,
  "nbformat_minor": 0,
  "metadata": {
    "colab": {
      "provenance": [],
      "authorship_tag": "ABX9TyMFsEf9oZXklbFFvjpLlSrl",
      "include_colab_link": true
    },
    "kernelspec": {
      "name": "python3",
      "display_name": "Python 3"
    },
    "language_info": {
      "name": "python"
    }
  },
  "cells": [
    {
      "cell_type": "markdown",
      "metadata": {
        "id": "view-in-github",
        "colab_type": "text"
      },
      "source": [
        "<a href=\"https://colab.research.google.com/github/Eezkz/eez/blob/main/untitled1.ipynb\" target=\"_parent\"><img src=\"https://colab.research.google.com/assets/colab-badge.svg\" alt=\"Open In Colab\"/></a>"
      ]
    },
    {
      "cell_type": "code",
      "execution_count": null,
      "metadata": {
        "colab": {
          "base_uri": "https://localhost:8080/"
        },
        "id": "xduQ2FhhehAq",
        "outputId": "c1fa5734-166c-4950-9c2a-af1624516f0b"
      },
      "outputs": [
        {
          "output_type": "stream",
          "name": "stdout",
          "text": [
            "Looking in indexes: https://pypi.org/simple, https://us-python.pkg.dev/colab-wheels/public/simple/\n",
            "Requirement already satisfied: scipy==1.4.* in /usr/local/lib/python3.8/dist-packages (1.4.1)\n",
            "Requirement already satisfied: numpy>=1.13.3 in /usr/local/lib/python3.8/dist-packages (from scipy==1.4.*) (1.21.6)\n"
          ]
        },
        {
          "output_type": "execute_result",
          "data": {
            "text/plain": [
              "     con: array([], dtype=float64)\n",
              "     fun: 0.0\n",
              " message: 'Optimization terminated successfully.'\n",
              "     nit: 0\n",
              "   slack: array([200., 120., 150.])\n",
              "  status: 0\n",
              " success: True\n",
              "       x: array([0., 0.])"
            ]
          },
          "metadata": {},
          "execution_count": 10
        }
      ],
      "source": [
        "!pip install -U \"scipy==1.4.*\"\n",
        "from scipy.optimize import linprog\n",
        "obj=[5,12]\n",
        "left=[[20,10],\n",
        "      [10,20],\n",
        "      [10,30]]\n",
        "right=[200,\n",
        "       120,\n",
        "       150]\n",
        "bnd = [(0, float(\"inf\")),  # Bounds of x\n",
        "       (0, float(\"inf\"))]  # Bounds of y\n",
        "\n",
        "opt= linprog(c=obj, A_ub=left, b_ub=right,\n",
        "             bounds=bnd,\n",
        "            method=\"revised simplex\")\n",
        "opt"
      ]
    }
  ]
}