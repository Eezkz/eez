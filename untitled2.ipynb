{
  "nbformat": 4,
  "nbformat_minor": 0,
  "metadata": {
    "colab": {
      "provenance": [],
      "authorship_tag": "ABX9TyMzCbk/bO02rJ4z3KoNREF5",
      "include_colab_link": true
    },
    "kernelspec": {
      "name": "python3",
      "display_name": "Python 3"
    },
    "language_info": {
      "name": "python"
    }
  },
  "cells": [
    {
      "cell_type": "markdown",
      "metadata": {
        "id": "view-in-github",
        "colab_type": "text"
      },
      "source": [
        "<a href=\"https://colab.research.google.com/github/Eezkz/eez/blob/main/untitled2.ipynb\" target=\"_parent\"><img src=\"https://colab.research.google.com/assets/colab-badge.svg\" alt=\"Open In Colab\"/></a>"
      ]
    },
    {
      "cell_type": "code",
      "execution_count": null,
      "metadata": {
        "colab": {
          "base_uri": "https://localhost:8080/"
        },
        "id": "xduQ2FhhehAq",
        "outputId": "d2885e06-dde1-411d-ab47-28b756273618"
      },
      "outputs": [
        {
          "output_type": "stream",
          "name": "stdout",
          "text": [
            "Looking in indexes: https://pypi.org/simple, https://us-python.pkg.dev/colab-wheels/public/simple/\n",
            "Requirement already satisfied: pulp in /usr/local/lib/python3.8/dist-packages (2.7.0)\n",
            "status: 1, Optimal\n",
            "objective: 66.0\n",
            "x: 6.0\n",
            "C1_constraint: -50.0\n",
            "C2_constraint: 0.0\n",
            "C3_constraint: 0.0\n",
            "y: 3.0\n",
            "C1_constraint: -50.0\n",
            "C2_constraint: 0.0\n",
            "C3_constraint: 0.0\n"
          ]
        }
      ],
      "source": [
        "!pip install pulp\n",
        "from pulp import LpMaximize, LpProblem, LpStatus, lpSum, LpVariable\n",
        "model = LpProblem(name=\"small-problem\", sense=LpMaximize)\n",
        "# Initialize\n",
        "x = LpVariable(name=\"x\", lowBound=0)\n",
        "y = LpVariable(name=\"y\", lowBound=0)\n",
        "# constraints\n",
        "model += (20 * x + 10* y <= 200, \"C1_constraint\")\n",
        "model += (10 * x + 20* y <= 120, \"C2_constraint\")\n",
        "model += (10 * x + 30* y <= 150, \"C3_constraint\")\n",
        "model += lpSum([5*x, 12 * y])\n",
        "model\n",
        "# Solve \n",
        "status = model.solve()\n",
        "print(f\"status: {model.status}, {LpStatus[model.status]}\")\n",
        "print(f\"objective: {model.objective.value()}\")\n",
        "for var in model.variables():\n",
        "      print(f\"{var.name}: {var.value()}\")\n",
        "      for name, constraint in model.constraints.items():\n",
        "            print(f\"{name}: {constraint.value()}\")"
      ]
    }
  ]
}